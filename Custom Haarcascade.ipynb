{
 "cells": [
  {
   "cell_type": "code",
   "execution_count": null,
   "metadata": {},
   "outputs": [],
   "source": [
    "import cv2\n",
    "\n",
    "################################################################\n",
    "path = 'haarcascades/haarcascade_frontalface_default.xml'  # PATH OF THE CASCADE\n",
    "cameraNo = 1                       # CAMERA NUMBER\n",
    "objectName = 'Arduino'       # OBJECT NAME TO DISPLAY\n",
    "frameWidth= 640                     # DISPLAY WIDTH\n",
    "frameHeight = 480                  # DISPLAY HEIGHT\n",
    "color= (255,0,255)\n",
    "#################################################################\n",
    "\n",
    "\n",
    "cap = cv2.VideoCapture(cameraNo)\n",
    "cap.set(3, frameWidth)\n",
    "cap.set(4, frameHeight)\n",
    "\n",
    "def empty(a):\n",
    "    pass\n",
    "\n",
    "# CREATE TRACKBAR\n",
    "cv2.namedWindow(\"Result\")\n",
    "cv2.resizeWindow(\"Result\",frameWidth,frameHeight+100)\n",
    "cv2.createTrackbar(\"Scale\",\"Result\",400,1000,empty)\n",
    "cv2.createTrackbar(\"Neig\",\"Result\",8,50,empty)\n",
    "cv2.createTrackbar(\"Min Area\",\"Result\",0,100000,empty)\n",
    "cv2.createTrackbar(\"Brightness\",\"Result\",180,255,empty)\n",
    "\n",
    "# LOAD THE CLASSIFIERS DOWNLOADED\n",
    "cascade = cv2.CascadeClassifier(path)\n",
    "\n",
    "while True:\n",
    "    # SET CAMERA BRIGHTNESS FROM TRACKBAR VALUE\n",
    "    cameraBrightness = cv2.getTrackbarPos(\"Brightness\", \"Result\")\n",
    "    cap.set(10, cameraBrightness)\n",
    "    # GET CAMERA IMAGE AND CONVERT TO GRAYSCALE\n",
    "    success, img = cap.read()\n",
    "    gray = cv2.cvtColor(img, cv2.COLOR_BGR2GRAY)\n",
    "    # DETECT THE OBJECT USING THE CASCADE\n",
    "    scaleVal =1 + (cv2.getTrackbarPos(\"Scale\", \"Result\") /1000)\n",
    "    neig=cv2.getTrackbarPos(\"Neig\", \"Result\")\n",
    "    objects = cascade.detectMultiScale(gray,scaleVal, neig)\n",
    "    # DISPLAY THE DETECTED OBJECTS\n",
    "    for (x,y,w,h) in objects:\n",
    "        area = w*h\n",
    "        minArea = cv2.getTrackbarPos(\"Min Area\", \"Result\")\n",
    "        if area >minArea:\n",
    "            cv2.rectangle(img,(x,y),(x+w,y+h),color,3)\n",
    "            cv2.putText(img,objectName,(x,y-5),cv2.FONT_HERSHEY_COMPLEX_SMALL,1,color,2)\n",
    "            roi_color = img[y:y+h, x:x+w]\n",
    "\n",
    "    cv2.imshow(\"Result\", img)\n",
    "\n",
    "    if cv2.waitKey(1) & 0xFF == ord('q'):\n",
    "         break"
   ]
  }
 ],
 "metadata": {
  "kernelspec": {
   "display_name": "Python 3",
   "language": "python",
   "name": "python3"
  },
  "language_info": {
   "codemirror_mode": {
    "name": "ipython",
    "version": 3
   },
   "file_extension": ".py",
   "mimetype": "text/x-python",
   "name": "python",
   "nbconvert_exporter": "python",
   "pygments_lexer": "ipython3",
   "version": "3.5.6"
  }
 },
 "nbformat": 4,
 "nbformat_minor": 4
}
