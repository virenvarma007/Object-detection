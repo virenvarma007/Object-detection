{
 "cells": [
  {
   "cell_type": "code",
   "execution_count": 7,
   "metadata": {},
   "outputs": [],
   "source": [
    "import cv2\n",
    "import numpy as np"
   ]
  },
  {
   "cell_type": "code",
   "execution_count": 17,
   "metadata": {},
   "outputs": [],
   "source": [
    "img = cv2.imread('cat.1.jpg')\n",
    "kernel=np.ones((5,5),np.uint8)\n",
    "imgGray=cv2.cvtColor(img,cv2.COLOR_BGR2GRAY)\n",
    "imgBlur=cv2.GaussianBlur(imgGray,(7,7),0)\n",
    "imgCanny=cv2.Canny(img,150,150)\n",
    "imgDialation=cv2.dilate(imgCanny,kernel,iterations=1)\n",
    "imgErode=cv2.erode(imgDialation,kernel,iterations=1)\n",
    "\n",
    "\n",
    "cv2.imshow(\"Gray Image\",imgGray)\n",
    "cv2.imshow(\"Blur Image\",imgBlur)\n",
    "cv2.imshow(\"Canny Image\",imgCanny)\n",
    "cv2.imshow(\"Dialation Image\",imgDialation)\n",
    "cv2.imshow(\"Erode Image\",imgErode)\n",
    "cv2.waitKey(0)\n",
    "cv2.destroyAllWindows()"
   ]
  },
  {
   "cell_type": "code",
   "execution_count": null,
   "metadata": {},
   "outputs": [],
   "source": []
  }
 ],
 "metadata": {
  "kernelspec": {
   "display_name": "Python 3",
   "language": "python",
   "name": "python3"
  },
  "language_info": {
   "codemirror_mode": {
    "name": "ipython",
    "version": 3
   },
   "file_extension": ".py",
   "mimetype": "text/x-python",
   "name": "python",
   "nbconvert_exporter": "python",
   "pygments_lexer": "ipython3",
   "version": "3.5.6"
  }
 },
 "nbformat": 4,
 "nbformat_minor": 4
}
